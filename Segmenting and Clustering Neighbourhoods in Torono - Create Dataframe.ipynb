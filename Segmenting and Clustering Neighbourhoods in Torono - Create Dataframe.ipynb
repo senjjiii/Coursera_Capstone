{
 "metadata": {
  "language_info": {
   "codemirror_mode": {
    "name": "ipython",
    "version": 3
   },
   "file_extension": ".py",
   "mimetype": "text/x-python",
   "name": "python",
   "nbconvert_exporter": "python",
   "pygments_lexer": "ipython3",
   "version": "3.8.5"
  },
  "orig_nbformat": 2,
  "kernelspec": {
   "name": "python385jvsc74a57bd080c43991652e780747d9c6319977bd0136360ce2e0fc84482afef3e3190a2945",
   "display_name": "Python 3.8.5 64-bit (conda)"
  }
 },
 "nbformat": 4,
 "nbformat_minor": 2,
 "cells": [
  {
   "source": [
    "# Segementing and Clustering Neighbourhoods in Toronto\n",
    "\n",
    "## 3. Create the dataframe"
   ],
   "cell_type": "markdown",
   "metadata": {}
  },
  {
   "source": [
    "import required libraries\n"
   ],
   "cell_type": "markdown",
   "metadata": {}
  },
  {
   "cell_type": "code",
   "execution_count": 30,
   "metadata": {},
   "outputs": [],
   "source": [
    "import pandas as pd\n",
    "import requests\n",
    "from bs4 import BeautifulSoup"
   ]
  },
  {
   "source": [
    "Request page and find required table"
   ],
   "cell_type": "markdown",
   "metadata": {}
  },
  {
   "cell_type": "code",
   "execution_count": null,
   "metadata": {},
   "outputs": [],
   "source": [
    "# Used an older version of the wiki page which has an easier to read and process table format\n",
    "URL = \"https://en.wikipedia.org/w/index.php?title=List_of_postal_codes_of_Canada:_M&oldid=1008658788\"\n",
    "\n",
    "# generate the page request\n",
    "page = requests.get(URL)\n",
    "\n",
    "# parse the html\n",
    "soup = BeautifulSoup(page.content, 'html.parser')\n",
    "\n",
    "# Using BeautifulSoup find the required table\n",
    "table=soup.find('table')\n"
   ]
  },
  {
   "source": [
    "Process table and convert to df"
   ],
   "cell_type": "markdown",
   "metadata": {}
  },
  {
   "cell_type": "code",
   "execution_count": 31,
   "metadata": {},
   "outputs": [],
   "source": [
    "# set up list of rows to convert to df\n",
    "table_contents=[]\n",
    "\n",
    "#set iterator to be able to identify <td>'s\n",
    "i=1\n",
    "\n",
    "#create empty cell struccture\n",
    "cell = {}\n",
    "\n",
    "#for each td in table\n",
    "for row in table.findAll('td'):\n",
    "    \n",
    "    # if in the first column it will be the postal code\n",
    "    if i % 3 == 1:\n",
    "        cell['PostalCode'] = row.text.replace('\\n','')\n",
    "\n",
    "    # else if it's in the 2nd column it's the borough\n",
    "    elif i % 3 == 2:\n",
    "        cell['Borough'] = row.text.replace('\\n','')\n",
    "\n",
    "    # else if it's in the 3rd column it's the neighbourhood \n",
    "    elif i % 3 == 0:\n",
    "        cell['Neighborhood'] = row.text.replace('\\n','')\n",
    "\n",
    "        #once every 3rd td is reached append the created cell to the list of cells, and generate a new cell\n",
    "        table_contents.append(cell)\n",
    "        cell = {}\n",
    "\n",
    "    i += 1 \n",
    "\n",
    "# create the df\n",
    "df=pd.DataFrame(table_contents)\n",
    "\n",
    "#remove unassigned postcodes from the table\n",
    "df = df[df.Borough != 'Not assigned']"
   ]
  },
  {
   "source": [
    "Shape of the dataframe"
   ],
   "cell_type": "markdown",
   "metadata": {}
  },
  {
   "cell_type": "code",
   "execution_count": 32,
   "metadata": {},
   "outputs": [
    {
     "output_type": "execute_result",
     "data": {
      "text/plain": [
       "(103, 3)"
      ]
     },
     "metadata": {},
     "execution_count": 32
    }
   ],
   "source": [
    "df.shape"
   ]
  }
 ]
}